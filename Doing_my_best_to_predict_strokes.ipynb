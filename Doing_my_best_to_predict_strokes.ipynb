{
  "nbformat": 4,
  "nbformat_minor": 0,
  "metadata": {
    "colab": {
      "provenance": []
    },
    "kernelspec": {
      "name": "python3",
      "display_name": "Python 3"
    },
    "language_info": {
      "name": "python"
    }
  },
  "cells": [
    {
      "cell_type": "markdown",
      "source": [
        "We will be using PyTorch for this neural network, so we need to import it."
      ],
      "metadata": {
        "id": "ZNe-EEw_sY1h"
      }
    },
    {
      "cell_type": "code",
      "execution_count": 1352,
      "metadata": {
        "id": "TGdFa50ny_c_"
      },
      "outputs": [],
      "source": [
        "import torch\n",
        "import torch.nn as nn\n",
        "import torch.nn.functional as F"
      ]
    },
    {
      "cell_type": "markdown",
      "source": [
        "For the neural network, we will have a 10-neuron input layer (representing 10 independent variables) and a 2-neuron output layer (representing \"stroke=no\" and \"stroke=yes\"). We will also include 4 hidden layers, each with 8 neurons. The activation function used throughout the network will be the Rectified Linear Unit (ReLU).\n",
        "\n",
        "> I attempted to enhance the model's performance by incorporating Dropout functions, but it did not yield improvement.\n",
        "\n",
        "Finally, we apply a softmax function to the output layer to generate a probability distribution, allowing us to observe the model's predicted probability of stroke."
      ],
      "metadata": {
        "id": "RxjHB8A3rdhC"
      }
    },
    {
      "cell_type": "code",
      "source": [
        "class Model(nn.Module):\n",
        "  def __init__(self, input=10, h1=8, h2=8, h3=8, h4=8, output=2):\n",
        "    super().__init__()\n",
        "    self.fc1 = nn.Linear(input, h1)\n",
        "    self.fc2 = nn.Linear(h1, h2)\n",
        "    self.fc3 = nn.Linear(h2, h3)\n",
        "    self.fc4 = nn.Linear(h3, h4)\n",
        "    self.out = nn.Linear(h4, output)\n",
        "\n",
        "  def forward(self, x):\n",
        "    x = F.relu(self.fc1(x))\n",
        "    x = F.relu(self.fc2(x))\n",
        "    x = F.relu(self.fc3(x))\n",
        "    x = F.relu(self.fc4(x))\n",
        "    x = F.softmax(self.out(x), dim=-1)\n",
        "\n",
        "\n",
        "    return x"
      ],
      "metadata": {
        "id": "FwmDo5e8zEHE"
      },
      "execution_count": 1353,
      "outputs": []
    },
    {
      "cell_type": "markdown",
      "source": [
        "We will need to instantiate the model in order to train and test it."
      ],
      "metadata": {
        "id": "bhIqvtNXrUuH"
      }
    },
    {
      "cell_type": "code",
      "source": [
        "model = Model()"
      ],
      "metadata": {
        "id": "xldNZX_y8dOm"
      },
      "execution_count": 1354,
      "outputs": []
    },
    {
      "cell_type": "markdown",
      "source": [
        "We import Pandas in order to read the dataset and Matplotlib for plotting."
      ],
      "metadata": {
        "id": "HotzYzzdrTLm"
      }
    },
    {
      "cell_type": "code",
      "source": [
        "import pandas as pd\n",
        "import matplotlib.pyplot as plt\n",
        "# In order to see plots in the notebook\n",
        "%matplotlib inline"
      ],
      "metadata": {
        "id": "JvfNNEb_2a2b"
      },
      "execution_count": 1355,
      "outputs": []
    },
    {
      "cell_type": "markdown",
      "source": [
        "We import the dataset as a pandas' Dataframe.\n",
        "\n"
      ],
      "metadata": {
        "id": "hrIPITeMd3TE"
      }
    },
    {
      "cell_type": "code",
      "source": [
        "url = 'healthcare-dataset-stroke-data.csv'\n",
        "my_df = pd.read_csv(url)\n",
        "my_df.info()\n"
      ],
      "metadata": {
        "id": "6RTi1KK62svi",
        "colab": {
          "base_uri": "https://localhost:8080/"
        },
        "outputId": "06442c48-48db-4508-9196-d57e472456d1"
      },
      "execution_count": 1356,
      "outputs": [
        {
          "output_type": "stream",
          "name": "stdout",
          "text": [
            "<class 'pandas.core.frame.DataFrame'>\n",
            "RangeIndex: 5110 entries, 0 to 5109\n",
            "Data columns (total 12 columns):\n",
            " #   Column             Non-Null Count  Dtype  \n",
            "---  ------             --------------  -----  \n",
            " 0   id                 5110 non-null   int64  \n",
            " 1   gender             5110 non-null   object \n",
            " 2   age                5110 non-null   float64\n",
            " 3   hypertension       5110 non-null   int64  \n",
            " 4   heart_disease      5110 non-null   int64  \n",
            " 5   ever_married       5110 non-null   object \n",
            " 6   work_type          5110 non-null   object \n",
            " 7   Residence_type     5110 non-null   object \n",
            " 8   avg_glucose_level  5110 non-null   float64\n",
            " 9   bmi                4909 non-null   float64\n",
            " 10  smoking_status     5110 non-null   object \n",
            " 11  stroke             5110 non-null   int64  \n",
            "dtypes: float64(3), int64(4), object(5)\n",
            "memory usage: 479.2+ KB\n"
          ]
        }
      ]
    },
    {
      "cell_type": "markdown",
      "source": [
        "When printing the information about this dataset, we can observe that some columns have a Dtype of \"object,\" indicating that they most likely contain strings. Additionally, upon closer inspection, we can see that the \"bmi\" column has some null values, meaning that some entries are NaNs (Not a Number) instead of float64 values. Finally, we will need to separate the \"stroke\" column from the rest, as it represents the dependent variable (what we are trying to predict)."
      ],
      "metadata": {
        "id": "IF9KWkSDf6r1"
      }
    },
    {
      "cell_type": "code",
      "source": [
        "# We drop id and stroke columns since we won't use ids and we don't want the column stroke in our independent matrix.\n",
        "X = my_df.drop([\"id\", \"stroke\"], axis=1)\n",
        "\n",
        "# We set numeric values for strings.\n",
        "X[\"gender\"] = X[\"gender\"].replace([\"Male\", \"Female\", \"Other\"], [0.0, 1.0, 2.0])\n",
        "X[\"ever_married\"] = X[\"ever_married\"].replace([\"No\", \"Yes\"], [0.0, 1.0])\n",
        "X[\"work_type\"] = X[\"work_type\"].replace([\"children\", \"Govt_job\", \"Never_worked\", \"Private\", \"Self-employed\"], [0.0, 1.0, 2.0, 3.0, 4.0])\n",
        "X[\"Residence_type\"] = X[\"Residence_type\"].replace([\"Rural\", \"Urban\"], [0.0, 1.0])\n",
        "X[\"smoking_status\"] = X[\"smoking_status\"].replace([\"formerly smoked\", \"never smoked\", \"smokes\", \"Unknown\"], [0.0, 1.0, 2.0, 3.0])\n",
        "\n",
        "# We replace the bmi NaNs with the column's median.\n",
        "X[\"bmi\"].fillna(X[\"bmi\"].median(), inplace = True)\n",
        "y = my_df['stroke']\n",
        "X = X.values\n",
        "y = y.values\n"
      ],
      "metadata": {
        "id": "EzcntsB04Rv2"
      },
      "execution_count": 1357,
      "outputs": []
    },
    {
      "cell_type": "markdown",
      "source": [
        "We import sklearn in order to use the ***train_test_split*** functionality to separate the data in **train samples** and **test samples**."
      ],
      "metadata": {
        "id": "0RULBeDOhnQL"
      }
    },
    {
      "cell_type": "code",
      "source": [
        "from sklearn.model_selection import train_test_split\n",
        "X_train, X_test, y_train, y_test = train_test_split(X, y, test_size = 0.2)"
      ],
      "metadata": {
        "id": "RYQUw4mm5VKA"
      },
      "execution_count": 1358,
      "outputs": []
    },
    {
      "cell_type": "markdown",
      "source": [
        "Now we need to convert the output of the train_test_split, which are NumPy arrays, to PyTorch tensors. We will convert our X to float in order to fit PyTorch's default tensor data type, which is float32. For the y arrays, we will convert them to integers to fit in a LongTensor, which is a tensor with a data type of long int and only holds 0s or 1s."
      ],
      "metadata": {
        "id": "gZYu_kOLh_Kv"
      }
    },
    {
      "cell_type": "code",
      "source": [
        "# We convert arrays to tensors.\n",
        "X_train = torch.Tensor(X_train.astype(float))\n",
        "X_test = torch.Tensor(X_test.astype(float))\n",
        "y_train = torch.LongTensor(y_train.astype(int))\n",
        "y_test = torch.LongTensor(y_test.astype(int))"
      ],
      "metadata": {
        "id": "QpcTTR6A6SFg"
      },
      "execution_count": 1359,
      "outputs": []
    },
    {
      "cell_type": "markdown",
      "source": [
        "When developing this neural network, I encountered a problem: there is a significant underrepresentation of people with strokes in the dataset. The imbalance is so pronounced that the model achieved a 95% accuracy by simply predicting \"no stroke\" for every input."
      ],
      "metadata": {
        "id": "zUTLnSjZlCE4"
      }
    },
    {
      "cell_type": "code",
      "source": [
        "# If we print the number of no_strokes and strokes we see its alarmingly different.\n",
        "y_train.unique(return_counts=True)\n",
        "\n",
        "# We calculate the rate of strokes in order to adjust it weights in the Cross Entropy Loss function.\n",
        "zeros = y_train.unique(return_counts=True)[1][0].item()\n",
        "ones = y_train.unique(return_counts=True)[1][1].item()\n",
        "frequencies = torch.tensor([zeros, ones])\n",
        "weights = 1.0 / frequencies"
      ],
      "metadata": {
        "id": "qpHaCuLHk_bw"
      },
      "execution_count": 1360,
      "outputs": []
    },
    {
      "cell_type": "markdown",
      "source": [
        "We will now use the weights we just calculated to adjust the weights in our error function. For our optimizer, we will use the Adam optimizer, which incorporates an adaptive learning rate."
      ],
      "metadata": {
        "id": "ZuKz84aSl5SV"
      }
    },
    {
      "cell_type": "code",
      "source": [
        "criteria = nn.CrossEntropyLoss(weight=weights)\n",
        "optimizer = torch.optim.Adam(model.parameters(), lr=0.01)"
      ],
      "metadata": {
        "id": "se_GvatF76pg"
      },
      "execution_count": 1361,
      "outputs": []
    },
    {
      "cell_type": "markdown",
      "source": [
        "Now it's time for training! We will set a number of iterations, which will determine the number of times we pass the X_train tensor to our model. Then, using the Cross Entropy Loss function, we will calculate the error of our prediction and save it in a list for later plotting."
      ],
      "metadata": {
        "id": "SNkZm2hHmq86"
      }
    },
    {
      "cell_type": "code",
      "source": [
        "iterations = 150\n",
        "losses = []\n",
        "for i in range(iterations):\n",
        "\n",
        "  y_pred = model(X_train)\n",
        "  loss = criteria(y_pred, y_train)\n",
        "  losses.append(loss.detach().numpy())\n",
        "\n",
        "  if i % 10 == 0:\n",
        "    print(f'Iteration {i} with loss {loss}.')\n",
        "\n",
        "  # We backpropagate the error and reset gradients of previos backpropagations\n",
        "  optimizer.zero_grad()\n",
        "  loss.backward()\n",
        "  # Finally we update the optimizer values with the new gradients\n",
        "  optimizer.step()\n"
      ],
      "metadata": {
        "colab": {
          "base_uri": "https://localhost:8080/"
        },
        "id": "Nx4YgL3H8xBQ",
        "outputId": "ffc3af21-d0d1-4018-e754-376fd4dd952c"
      },
      "execution_count": 1362,
      "outputs": [
        {
          "output_type": "stream",
          "name": "stdout",
          "text": [
            "Iteration 0 with loss 0.7009556889533997.\n",
            "Iteration 10 with loss 0.669378399848938.\n",
            "Iteration 20 with loss 0.6164638996124268.\n",
            "Iteration 30 with loss 0.5813131928443909.\n",
            "Iteration 40 with loss 0.5575527548789978.\n",
            "Iteration 50 with loss 0.5425562262535095.\n",
            "Iteration 60 with loss 0.5365927815437317.\n",
            "Iteration 70 with loss 0.5334328413009644.\n",
            "Iteration 80 with loss 0.5308762788772583.\n",
            "Iteration 90 with loss 0.5288407802581787.\n",
            "Iteration 100 with loss 0.5271535515785217.\n",
            "Iteration 110 with loss 0.5251691341400146.\n",
            "Iteration 120 with loss 0.5254151225090027.\n",
            "Iteration 130 with loss 0.5240132212638855.\n",
            "Iteration 140 with loss 0.523676335811615.\n"
          ]
        }
      ]
    },
    {
      "cell_type": "markdown",
      "source": [
        "Now we plot the losses to visualize the progression of the errors. It's evident that it plateaus at 0.5 error."
      ],
      "metadata": {
        "id": "2vXkSoDgoWPu"
      }
    },
    {
      "cell_type": "code",
      "source": [
        "plt.plot(losses)"
      ],
      "metadata": {
        "colab": {
          "base_uri": "https://localhost:8080/",
          "height": 447
        },
        "id": "ZKCYo88iEJvf",
        "outputId": "196a46e8-a095-4c02-a503-1bf3a2e373a4"
      },
      "execution_count": 1363,
      "outputs": [
        {
          "output_type": "execute_result",
          "data": {
            "text/plain": [
              "[<matplotlib.lines.Line2D at 0x7fdaaa1ea2f0>]"
            ]
          },
          "metadata": {},
          "execution_count": 1363
        },
        {
          "output_type": "display_data",
          "data": {
            "text/plain": [
              "<Figure size 640x480 with 1 Axes>"
            ],
            "image/png": "[encoded data removed]"
          },
          "metadata": {}
        }
      ]
    },
    {
      "cell_type": "markdown",
      "source": [
        "Now we will test the newly trained model with our test data. We will also count our misses and identify what was mispredicted in order to gain insight into the performance of our model.\n",
        "\n",
        "> When fine-tuning this model, I believe it's better to prioritize correctly identifying strokes, even if that means mispredicting strokes for people who are not going to have one, for obvious reasons."
      ],
      "metadata": {
        "id": "d5VB15-iomZz"
      }
    },
    {
      "cell_type": "code",
      "source": [
        "correct = 0\n",
        "actually1 = 0\n",
        "actually0 = 0\n",
        "with torch.no_grad():\n",
        "  for i, data in enumerate(X_test):\n",
        "    y_eval = model.forward(data)\n",
        "\n",
        "    if (y_eval.argmax().item() == y_test[i]):\n",
        "      correct += 1\n",
        "    else:\n",
        "      # Actually1 is when the model guessed no_stroke and the outcome was stroke. (BAD)\n",
        "      if (y_test[i] == 1):\n",
        "        actually1 += 1\n",
        "        print(f'I computed {y_eval} which means that I guessed stroke: {y_eval.argmax().item()}, but actually stroke: {y_test[i]}')\n",
        "      # Actually0 is when the model guessed stroke and the outcome was no_stroke. (LESS BAD)\n",
        "      else:\n",
        "        actually0 += 1\n",
        "\n",
        "  print(f'Evaluation finished with a total of: {correct} correct guesses and {i - correct} wrong guesses. Total {correct*100/i}% of correct guesses.')\n",
        "  print(f'I missed {actually1} strokes and misdiagnosed {actually0} fake strokes.')\n",
        "  zeros = y_test.unique(return_counts=True)[1][0].item()\n",
        "  ones = y_test.unique(return_counts=True)[1][1].item()\n",
        "  print(f'That is a {actually1*100/ones}% of missed strokes and a {actually0*100/zeros}% of misdiagnosed fake strokes.')\n"
      ],
      "metadata": {
        "colab": {
          "base_uri": "https://localhost:8080/"
        },
        "id": "vEkLrf4uJQaN",
        "outputId": "931770cd-fc52-4949-db53-202b58d94a5b"
      },
      "execution_count": 1364,
      "outputs": [
        {
          "output_type": "stream",
          "name": "stdout",
          "text": [
            "I computed tensor([0.9929, 0.0071]) which means that I guessed stroke: 0, but actually stroke: 1\n",
            "I computed tensor([0.9595, 0.0405]) which means that I guessed stroke: 0, but actually stroke: 1\n",
            "I computed tensor([0.9550, 0.0450]) which means that I guessed stroke: 0, but actually stroke: 1\n",
            "I computed tensor([0.6071, 0.3929]) which means that I guessed stroke: 0, but actually stroke: 1\n",
            "I computed tensor([0.5705, 0.4295]) which means that I guessed stroke: 0, but actually stroke: 1\n",
            "I computed tensor([0.9909, 0.0091]) which means that I guessed stroke: 0, but actually stroke: 1\n",
            "I computed tensor([0.5879, 0.4121]) which means that I guessed stroke: 0, but actually stroke: 1\n",
            "I computed tensor([0.7161, 0.2839]) which means that I guessed stroke: 0, but actually stroke: 1\n",
            "I computed tensor([0.6306, 0.3694]) which means that I guessed stroke: 0, but actually stroke: 1\n",
            "I computed tensor([0.7103, 0.2897]) which means that I guessed stroke: 0, but actually stroke: 1\n",
            "I computed tensor([0.9460, 0.0540]) which means that I guessed stroke: 0, but actually stroke: 1\n",
            "I computed tensor([0.9984, 0.0016]) which means that I guessed stroke: 0, but actually stroke: 1\n",
            "I computed tensor([0.9381, 0.0619]) which means that I guessed stroke: 0, but actually stroke: 1\n",
            "I computed tensor([0.8143, 0.1857]) which means that I guessed stroke: 0, but actually stroke: 1\n",
            "I computed tensor([9.9932e-01, 6.8357e-04]) which means that I guessed stroke: 0, but actually stroke: 1\n",
            "I computed tensor([0.6525, 0.3475]) which means that I guessed stroke: 0, but actually stroke: 1\n",
            "I computed tensor([0.9186, 0.0814]) which means that I guessed stroke: 0, but actually stroke: 1\n",
            "I computed tensor([0.5206, 0.4794]) which means that I guessed stroke: 0, but actually stroke: 1\n",
            "I computed tensor([0.5421, 0.4579]) which means that I guessed stroke: 0, but actually stroke: 1\n",
            "I computed tensor([0.8766, 0.1234]) which means that I guessed stroke: 0, but actually stroke: 1\n",
            "I computed tensor([0.8939, 0.1061]) which means that I guessed stroke: 0, but actually stroke: 1\n",
            "I computed tensor([0.9121, 0.0879]) which means that I guessed stroke: 0, but actually stroke: 1\n",
            "I computed tensor([0.9643, 0.0357]) which means that I guessed stroke: 0, but actually stroke: 1\n",
            "I computed tensor([0.6593, 0.3407]) which means that I guessed stroke: 0, but actually stroke: 1\n",
            "Evaluation finished with a total of: 794 correct guesses and 227 wrong guesses. Total 77.76689520078355% of correct guesses.\n",
            "I missed 24 strokes and misdiagnosed 204 fake strokes.\n",
            "That is a 40.67796610169491% of missed strokes and a 21.18380062305296% of misdiagnosed fake strokes.\n"
          ]
        }
      ]
    },
    {
      "cell_type": "markdown",
      "source": [
        "Here you can try the model for urself putting in your own data :)"
      ],
      "metadata": {
        "id": "G5JfzTx1p45D"
      }
    },
    {
      "cell_type": "code",
      "source": [
        "with torch.no_grad():\n",
        "  data = torch.tensor([0.0, 20.0, 0.0, 0.0, 0.0, 1.0, 1.0, 100.0, 21, 1.0])\n",
        "  y_eval = model.forward(data)\n",
        "  if (y_eval[0] < y_eval[1]):\n",
        "    print(\"Bad news buddy.\")\n",
        "  else:\n",
        "    print(\"Chilling.\")\n",
        "  print(y_eval)"
      ],
      "metadata": {
        "colab": {
          "base_uri": "https://localhost:8080/"
        },
        "id": "GIuPAcCP659_",
        "outputId": "b6bdb579-a7bc-4ac7-a5cf-d912e04736ea"
      },
      "execution_count": 1365,
      "outputs": [
        {
          "output_type": "stream",
          "name": "stdout",
          "text": [
            "Chilling.\n",
            "tensor([9.9971e-01, 2.8652e-04])\n"
          ]
        }
      ]
    },
    {
      "cell_type": "markdown",
      "source": [
        "### Thanks for passing by :)))"
      ],
      "metadata": {
        "id": "o874-uv_uQww"
      }
    }
  ]
}